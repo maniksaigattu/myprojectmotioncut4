{
 "cells": [
  {
   "cell_type": "code",
   "execution_count": 1,
   "id": "077dc3f3",
   "metadata": {},
   "outputs": [
    {
     "name": "stdout",
     "output_type": "stream",
     "text": [
      "Welcome to the Treasure Hunt Adventure!\n",
      "You find yourself standing at the entrance of a Treasure cave.\n",
      "Your objective is to explore the cave and make decisions that determine your fate.\n",
      "\n",
      "You enter the cave and find two paths:\n",
      "\n",
      "Choose your path:\n",
      "1. Go left\n",
      "2. Go right\n",
      "Enter the number of your choice: 1\n",
      "\n",
      "You chose to go left.\n",
      "You encounter a group of friendly fireflies that lead you to a hidden treasure!\n",
      "\n",
      "Congratulations! You found the hidden treasure. You win!\n",
      "None\n"
     ]
    }
   ],
   "source": [
    "import time\n",
    "\n",
    "def introduction():\n",
    "    print(\"Welcome to the Treasure Hunt Adventure!\")\n",
    "    print(\"You find yourself standing at the entrance of a Treasure cave.\")\n",
    "    print(\"Your objective is to explore the cave and make decisions that determine your fate.\")\n",
    "\n",
    "def make_choice(options):\n",
    "    print(\"\\nChoose your path:\")\n",
    "    for i, option in enumerate(options, start=1):\n",
    "        print(f\"{i}. {option}\")\n",
    "\n",
    "    while True:\n",
    "        try:\n",
    "            choice = int(input(\"Enter the number of your choice: \"))\n",
    "            if 1 <= choice <= len(options):\n",
    "                return choice\n",
    "            else:\n",
    "                print(\"Invalid choice. Please enter a valid number.\")\n",
    "        except ValueError:\n",
    "            print(\"Invalid input. Please enter a number.\")\n",
    "\n",
    "def explore_cave():\n",
    "    print(\"\\nYou enter the cave and find two paths:\")\n",
    "    time.sleep(1)\n",
    "    \n",
    "    options = [\"Go left\", \"Go right\"]\n",
    "    choice = make_choice(options)\n",
    "\n",
    "    if choice == 1:\n",
    "        print(\"\\nYou chose to go left.\")\n",
    "        time.sleep(1)\n",
    "        print(\"You encounter a group of friendly fireflies that lead you to a hidden treasure!\")\n",
    "        return \"win\"\n",
    "    else:\n",
    "        print(\"\\nYou chose to go right.\")\n",
    "        time.sleep(1)\n",
    "        print(\"Oops! You accidentally step on a trap and fall into a pit.\")\n",
    "        return \"lose\"\n",
    "\n",
    "def main():\n",
    "    introduction()\n",
    "    outcome = explore_cave()\n",
    "\n",
    "    if outcome == \"win\":\n",
    "        print(\"\\nCongratulations! You found the hidden treasure. You win!\")\n",
    "    else:\n",
    "        print(\"\\nSorry, you fell into a trap. Better luck next time!\")\n",
    "\n",
    "print(main())\n"
   ]
  },
  {
   "cell_type": "code",
   "execution_count": null,
   "id": "0a43665e",
   "metadata": {},
   "outputs": [],
   "source": []
  }
 ],
 "metadata": {
  "kernelspec": {
   "display_name": "Python 3 (ipykernel)",
   "language": "python",
   "name": "python3"
  },
  "language_info": {
   "codemirror_mode": {
    "name": "ipython",
    "version": 3
   },
   "file_extension": ".py",
   "mimetype": "text/x-python",
   "name": "python",
   "nbconvert_exporter": "python",
   "pygments_lexer": "ipython3",
   "version": "3.9.13"
  }
 },
 "nbformat": 4,
 "nbformat_minor": 5
}
